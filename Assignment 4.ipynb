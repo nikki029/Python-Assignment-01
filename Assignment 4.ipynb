{
 "cells": [
  {
   "cell_type": "markdown",
   "id": "57dda1fd",
   "metadata": {},
   "source": [
    "## 1. What exactly is []?"
   ]
  },
  {
   "cell_type": "code",
   "execution_count": 1,
   "id": "f7f25496",
   "metadata": {},
   "outputs": [],
   "source": [
    "l = []\n",
    "#This is an empty list . "
   ]
  },
  {
   "cell_type": "code",
   "execution_count": 2,
   "id": "c4842fed",
   "metadata": {},
   "outputs": [
    {
     "data": {
      "text/plain": [
       "[]"
      ]
     },
     "execution_count": 2,
     "metadata": {},
     "output_type": "execute_result"
    }
   ],
   "source": [
    "l "
   ]
  },
  {
   "cell_type": "markdown",
   "id": "df470743",
   "metadata": {},
   "source": [
    "## 2. In a list of values stored in a variable called spam, how would you assign the value 'hello' as the third value? (Assume [2, 4, 6, 8, 10] are in spam.)Let's pretend the spam includes the list ['a','b','c','d'] for the next three queries."
   ]
  },
  {
   "cell_type": "code",
   "execution_count": 3,
   "id": "182c1cb1",
   "metadata": {},
   "outputs": [],
   "source": [
    "spam= [2,4,6,8,10]"
   ]
  },
  {
   "cell_type": "code",
   "execution_count": 4,
   "id": "be55cb5f",
   "metadata": {},
   "outputs": [],
   "source": [
    "spam[2] = 'hello'"
   ]
  },
  {
   "cell_type": "code",
   "execution_count": 5,
   "id": "d563f5b9",
   "metadata": {},
   "outputs": [
    {
     "data": {
      "text/plain": [
       "[2, 4, 'hello', 8, 10]"
      ]
     },
     "execution_count": 5,
     "metadata": {},
     "output_type": "execute_result"
    }
   ],
   "source": [
    "spam"
   ]
  },
  {
   "cell_type": "code",
   "execution_count": 6,
   "id": "806c8472",
   "metadata": {},
   "outputs": [],
   "source": [
    "spam = ['a','b','c','d']"
   ]
  },
  {
   "cell_type": "markdown",
   "id": "569d3feb",
   "metadata": {},
   "source": [
    "## 3. What is the value of spam[int(int('3'* 2) / 11)]?"
   ]
  },
  {
   "cell_type": "code",
   "execution_count": 7,
   "id": "1017554c",
   "metadata": {},
   "outputs": [
    {
     "data": {
      "text/plain": [
       "'d'"
      ]
     },
     "execution_count": 7,
     "metadata": {},
     "output_type": "execute_result"
    }
   ],
   "source": [
    "spam[int(int('3' * 2) / 11)]"
   ]
  },
  {
   "cell_type": "code",
   "execution_count": 8,
   "id": "fcbd5068",
   "metadata": {},
   "outputs": [
    {
     "data": {
      "text/plain": [
       "'33'"
      ]
     },
     "execution_count": 8,
     "metadata": {},
     "output_type": "execute_result"
    }
   ],
   "source": [
    "'3'*2"
   ]
  },
  {
   "cell_type": "markdown",
   "id": "01c611b5",
   "metadata": {},
   "source": [
    "## 4. What is the value of spam[-1]?"
   ]
  },
  {
   "cell_type": "code",
   "execution_count": 9,
   "id": "e677bf6a",
   "metadata": {},
   "outputs": [
    {
     "data": {
      "text/plain": [
       "'d'"
      ]
     },
     "execution_count": 9,
     "metadata": {},
     "output_type": "execute_result"
    }
   ],
   "source": [
    "spam[-1]"
   ]
  },
  {
   "cell_type": "markdown",
   "id": "e05ff8b3",
   "metadata": {},
   "source": [
    "## 5. What is the value of spam[:2]?"
   ]
  },
  {
   "cell_type": "code",
   "execution_count": 10,
   "id": "d3ceada1",
   "metadata": {},
   "outputs": [
    {
     "data": {
      "text/plain": [
       "['a', 'b']"
      ]
     },
     "execution_count": 10,
     "metadata": {},
     "output_type": "execute_result"
    }
   ],
   "source": [
    "spam[:2]"
   ]
  },
  {
   "cell_type": "markdown",
   "id": "606247e1",
   "metadata": {},
   "source": [
    "## Let's pretend bacon has the list [3.14, 'cat,' 11, 'cat,' True] for the next three questions. "
   ]
  },
  {
   "cell_type": "markdown",
   "id": "10588891",
   "metadata": {},
   "source": [
    "## Q6. What is the value of bacon.index('cat')?"
   ]
  },
  {
   "cell_type": "code",
   "execution_count": 11,
   "id": "4e29c341",
   "metadata": {},
   "outputs": [],
   "source": [
    "bacon = [3.14, 'cat', 11, 'cat', True] "
   ]
  },
  {
   "cell_type": "code",
   "execution_count": 12,
   "id": "a3eef676",
   "metadata": {},
   "outputs": [
    {
     "data": {
      "text/plain": [
       "1"
      ]
     },
     "execution_count": 12,
     "metadata": {},
     "output_type": "execute_result"
    }
   ],
   "source": [
    "bacon.index('cat')"
   ]
  },
  {
   "cell_type": "markdown",
   "id": "7660a62e",
   "metadata": {},
   "source": [
    "## 7. How does bacon.append(99) change the look of the list value in bacon?"
   ]
  },
  {
   "cell_type": "code",
   "execution_count": 13,
   "id": "7164cd50",
   "metadata": {},
   "outputs": [],
   "source": [
    "bacon.append(99)"
   ]
  },
  {
   "cell_type": "code",
   "execution_count": 14,
   "id": "5d7d96ed",
   "metadata": {},
   "outputs": [
    {
     "data": {
      "text/plain": [
       "[3.14, 'cat', 11, 'cat', True, 99]"
      ]
     },
     "execution_count": 14,
     "metadata": {},
     "output_type": "execute_result"
    }
   ],
   "source": [
    "bacon"
   ]
  },
  {
   "cell_type": "markdown",
   "id": "c73d3a84",
   "metadata": {},
   "source": [
    "## 8. How does bacon.remove(&#39;cat&#39;) change the look of the list in bacon?"
   ]
  },
  {
   "cell_type": "code",
   "execution_count": 15,
   "id": "80ba68f9",
   "metadata": {},
   "outputs": [],
   "source": [
    "bacon = [3.14, 'cat', 11, 'cat', True] "
   ]
  },
  {
   "cell_type": "code",
   "execution_count": 16,
   "id": "b99748ef",
   "metadata": {},
   "outputs": [],
   "source": [
    "bacon.remove('cat')"
   ]
  },
  {
   "cell_type": "code",
   "execution_count": 17,
   "id": "c71e1c55",
   "metadata": {},
   "outputs": [
    {
     "data": {
      "text/plain": [
       "[3.14, 11, 'cat', True]"
      ]
     },
     "execution_count": 17,
     "metadata": {},
     "output_type": "execute_result"
    }
   ],
   "source": [
    "bacon"
   ]
  },
  {
   "cell_type": "code",
   "execution_count": 18,
   "id": "27c56849",
   "metadata": {},
   "outputs": [],
   "source": [
    "bacon.remove('cat')"
   ]
  },
  {
   "cell_type": "code",
   "execution_count": 19,
   "id": "1b381e80",
   "metadata": {},
   "outputs": [
    {
     "data": {
      "text/plain": [
       "[3.14, 11, True]"
      ]
     },
     "execution_count": 19,
     "metadata": {},
     "output_type": "execute_result"
    }
   ],
   "source": [
    "bacon"
   ]
  },
  {
   "cell_type": "markdown",
   "id": "df254cbf",
   "metadata": {},
   "source": [
    "## 9. What are the list concatenation and list replication operators?"
   ]
  },
  {
   "cell_type": "markdown",
   "id": "07e9357b",
   "metadata": {},
   "source": [
    "List concatenation operation is +\n",
    "This concatenation sign is used to concatenate \n"
   ]
  },
  {
   "cell_type": "code",
   "execution_count": 20,
   "id": "94d7baf8",
   "metadata": {},
   "outputs": [
    {
     "data": {
      "text/plain": [
       "['a', 'b', 'c', 'd', 3.14, 11, True]"
      ]
     },
     "execution_count": 20,
     "metadata": {},
     "output_type": "execute_result"
    }
   ],
   "source": [
    "l1 = spam \n",
    "l2 = bacon \n",
    "l3 = l1 + l2\n",
    "l3"
   ]
  },
  {
   "cell_type": "markdown",
   "id": "2403e46c",
   "metadata": {},
   "source": [
    "List replication operators : \n",
    "It is * "
   ]
  },
  {
   "cell_type": "code",
   "execution_count": 21,
   "id": "e84e1000",
   "metadata": {},
   "outputs": [
    {
     "data": {
      "text/plain": [
       "['a', 'b', 'c', 'd', 3.14, 11, True, 'a', 'b', 'c', 'd', 3.14, 11, True]"
      ]
     },
     "execution_count": 21,
     "metadata": {},
     "output_type": "execute_result"
    }
   ],
   "source": [
    "l3*2"
   ]
  },
  {
   "cell_type": "markdown",
   "id": "35a474f1",
   "metadata": {},
   "source": [
    "## 10. What is difference between the list methods append() and insert()?"
   ]
  },
  {
   "cell_type": "markdown",
   "id": "b5b27615",
   "metadata": {},
   "source": [
    "List methods append() : This method always adds the input at the end of the list "
   ]
  },
  {
   "cell_type": "code",
   "execution_count": 22,
   "id": "0a3b9b04",
   "metadata": {},
   "outputs": [
    {
     "data": {
      "text/plain": [
       "['a', 'b', 'c', 'd']"
      ]
     },
     "execution_count": 22,
     "metadata": {},
     "output_type": "execute_result"
    }
   ],
   "source": [
    "l1"
   ]
  },
  {
   "cell_type": "code",
   "execution_count": 23,
   "id": "edb5cda0",
   "metadata": {},
   "outputs": [],
   "source": [
    "l1.append(256)"
   ]
  },
  {
   "cell_type": "code",
   "execution_count": 24,
   "id": "2cb17535",
   "metadata": {},
   "outputs": [
    {
     "data": {
      "text/plain": [
       "['a', 'b', 'c', 'd', 256]"
      ]
     },
     "execution_count": 24,
     "metadata": {},
     "output_type": "execute_result"
    }
   ],
   "source": [
    "l1"
   ]
  },
  {
   "cell_type": "markdown",
   "id": "43dd4357",
   "metadata": {},
   "source": [
    "List method insert() : This method inserts the given value according to this index. "
   ]
  },
  {
   "cell_type": "code",
   "execution_count": 25,
   "id": "3d1f8a35",
   "metadata": {},
   "outputs": [
    {
     "data": {
      "text/plain": [
       "['a', 'b', 'c', 'd', 256]"
      ]
     },
     "execution_count": 25,
     "metadata": {},
     "output_type": "execute_result"
    }
   ],
   "source": [
    "l1"
   ]
  },
  {
   "cell_type": "code",
   "execution_count": 26,
   "id": "7aeef10c",
   "metadata": {},
   "outputs": [],
   "source": [
    "l1.insert(2 , 'b1')"
   ]
  },
  {
   "cell_type": "code",
   "execution_count": 27,
   "id": "67f5e371",
   "metadata": {},
   "outputs": [
    {
     "data": {
      "text/plain": [
       "['a', 'b', 'b1', 'c', 'd', 256]"
      ]
     },
     "execution_count": 27,
     "metadata": {},
     "output_type": "execute_result"
    }
   ],
   "source": [
    "l1"
   ]
  },
  {
   "cell_type": "markdown",
   "id": "787690df",
   "metadata": {},
   "source": [
    "## 11. What are the two methods for removing items from a list?"
   ]
  },
  {
   "cell_type": "markdown",
   "id": "c2569dd5",
   "metadata": {},
   "source": [
    "remove(item) is used to remove first occurance of a list\n",
    "\n"
   ]
  },
  {
   "cell_type": "code",
   "execution_count": 28,
   "id": "1c9843d9",
   "metadata": {},
   "outputs": [
    {
     "data": {
      "text/plain": [
       "[3.14, 11, 'cat', True]"
      ]
     },
     "execution_count": 28,
     "metadata": {},
     "output_type": "execute_result"
    }
   ],
   "source": [
    "bacon = [3.14, 'cat', 11, 'cat', True]\n",
    "bacon.remove('cat')\n",
    "bacon"
   ]
  },
  {
   "cell_type": "markdown",
   "id": "1357b5f0",
   "metadata": {},
   "source": [
    "pop(item) is used to remove the last element of a list"
   ]
  },
  {
   "cell_type": "code",
   "execution_count": 29,
   "id": "062c6f73",
   "metadata": {},
   "outputs": [
    {
     "data": {
      "text/plain": [
       "True"
      ]
     },
     "execution_count": 29,
     "metadata": {},
     "output_type": "execute_result"
    }
   ],
   "source": [
    "bacon.pop()"
   ]
  },
  {
   "cell_type": "code",
   "execution_count": 30,
   "id": "2e6163ce",
   "metadata": {},
   "outputs": [
    {
     "data": {
      "text/plain": [
       "[3.14, 11, 'cat']"
      ]
     },
     "execution_count": 30,
     "metadata": {},
     "output_type": "execute_result"
    }
   ],
   "source": [
    "bacon"
   ]
  },
  {
   "cell_type": "markdown",
   "id": "01c472b3",
   "metadata": {},
   "source": [
    "## 12. Describe how list values and string values are identical."
   ]
  },
  {
   "cell_type": "markdown",
   "id": "1e6bdcc4",
   "metadata": {},
   "source": [
    "Lists are mutable and strings are immutable ."
   ]
  },
  {
   "cell_type": "markdown",
   "id": "d138c444",
   "metadata": {},
   "source": [
    "## 13. What's the difference between tuples and lists?"
   ]
  },
  {
   "cell_type": "markdown",
   "id": "5bf2d7f6",
   "metadata": {},
   "source": [
    "Lists : are mutable - they can have values added, removed, or changed. lists can be expressed in square brackets, [ ]. Values inside list can be added,removed,etc\n",
    "    Tuples : are immutable; they cannot be changed at all. Tuples are written using parentheses, ( ). Values inside tuples cannot be changed."
   ]
  },
  {
   "cell_type": "markdown",
   "id": "c9fc1e63",
   "metadata": {},
   "source": [
    "## 14. How do you type a tuple value that only contains the integer 42?\n",
    "\n"
   ]
  },
  {
   "cell_type": "code",
   "execution_count": 31,
   "id": "499e1c28",
   "metadata": {},
   "outputs": [],
   "source": [
    "t = (42)"
   ]
  },
  {
   "cell_type": "code",
   "execution_count": 32,
   "id": "48e99737",
   "metadata": {},
   "outputs": [
    {
     "data": {
      "text/plain": [
       "int"
      ]
     },
     "execution_count": 32,
     "metadata": {},
     "output_type": "execute_result"
    }
   ],
   "source": [
    "type(t)"
   ]
  },
  {
   "cell_type": "markdown",
   "id": "c13c8355",
   "metadata": {},
   "source": [
    "## 15. How do you get a list value's tuple form? How do you get a tuple value's list form?"
   ]
  },
  {
   "cell_type": "code",
   "execution_count": 33,
   "id": "7b65a767",
   "metadata": {},
   "outputs": [
    {
     "data": {
      "text/plain": [
       "['a', 'b', 'b1', 'c', 'd', 256]"
      ]
     },
     "execution_count": 33,
     "metadata": {},
     "output_type": "execute_result"
    }
   ],
   "source": [
    "l1"
   ]
  },
  {
   "cell_type": "code",
   "execution_count": 34,
   "id": "8295adc5",
   "metadata": {},
   "outputs": [],
   "source": [
    "t = tuple(l1)"
   ]
  },
  {
   "cell_type": "code",
   "execution_count": 35,
   "id": "b0f03164",
   "metadata": {},
   "outputs": [
    {
     "data": {
      "text/plain": [
       "('a', 'b', 'b1', 'c', 'd', 256)"
      ]
     },
     "execution_count": 35,
     "metadata": {},
     "output_type": "execute_result"
    }
   ],
   "source": [
    "t"
   ]
  },
  {
   "cell_type": "code",
   "execution_count": 36,
   "id": "e871ee06",
   "metadata": {},
   "outputs": [],
   "source": [
    "l = list(t)"
   ]
  },
  {
   "cell_type": "code",
   "execution_count": 37,
   "id": "3049a252",
   "metadata": {},
   "outputs": [
    {
     "data": {
      "text/plain": [
       "['a', 'b', 'b1', 'c', 'd', 256]"
      ]
     },
     "execution_count": 37,
     "metadata": {},
     "output_type": "execute_result"
    }
   ],
   "source": [
    "l"
   ]
  },
  {
   "cell_type": "markdown",
   "id": "e1813dfa",
   "metadata": {},
   "source": [
    "## 16. Variables that &quot;contain&quot; list values are not necessarily lists themselves. Instead, what do they contain?"
   ]
  },
  {
   "cell_type": "markdown",
   "id": "a1648b21",
   "metadata": {},
   "source": [
    "It contains refernce of that list value "
   ]
  },
  {
   "cell_type": "markdown",
   "id": "ad54ecbe",
   "metadata": {},
   "source": [
    "## 17. How do you distinguish between copy.copy() and copy.deepcopy()?"
   ]
  },
  {
   "cell_type": "markdown",
   "id": "8dbe69dd",
   "metadata": {},
   "source": [
    "copy() create reference to original object. If you change copied object - you change the original object. "
   ]
  },
  {
   "cell_type": "markdown",
   "id": "f6678e48",
   "metadata": {},
   "source": [
    "deepcopy() creates new object and does real copying of original object to new one. Changing new deepcopied object doesn't affect original object."
   ]
  }
 ],
 "metadata": {
  "kernelspec": {
   "display_name": "Python 3 (ipykernel)",
   "language": "python",
   "name": "python3"
  },
  "language_info": {
   "codemirror_mode": {
    "name": "ipython",
    "version": 3
   },
   "file_extension": ".py",
   "mimetype": "text/x-python",
   "name": "python",
   "nbconvert_exporter": "python",
   "pygments_lexer": "ipython3",
   "version": "3.9.12"
  }
 },
 "nbformat": 4,
 "nbformat_minor": 5
}
